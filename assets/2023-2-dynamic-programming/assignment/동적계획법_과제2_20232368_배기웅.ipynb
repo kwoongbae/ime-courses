{
  "nbformat": 4,
  "nbformat_minor": 0,
  "metadata": {
    "colab": {
      "provenance": []
    },
    "kernelspec": {
      "name": "python3",
      "display_name": "Python 3"
    },
    "language_info": {
      "name": "python"
    }
  },
  "cells": [
    {
      "cell_type": "code",
      "source": [
        "%cd /content/drive/MyDrive/포항공대_코드모음/동적계획법"
      ],
      "metadata": {
        "colab": {
          "base_uri": "https://localhost:8080/"
        },
        "id": "Th7pMv4VBV-z",
        "outputId": "ce558eac-324c-47a1-a442-88dbb9363396"
      },
      "execution_count": 1,
      "outputs": [
        {
          "output_type": "stream",
          "name": "stdout",
          "text": [
            "/content/drive/MyDrive/포항공대_코드모음/동적계획법\n"
          ]
        }
      ]
    },
    {
      "cell_type": "markdown",
      "source": [
        "1-(b) Build a Python code to implement your DP algorithm. The code must be able to solve general situation. That is , when an arbitrary adjacency matrix and starting-city will be given, your code needs to find the optimal path. At the beginning, please use the \"adj_matrix.csv\" file."
      ],
      "metadata": {
        "id": "iUs2fErLS0sn"
      }
    },
    {
      "cell_type": "code",
      "source": [
        "import numpy as np\n",
        "import pandas as pd\n",
        "\n",
        "def tsp(adj_matrix):\n",
        "    n = len(adj_matrix)\n",
        "    memo = [[-1] * (1 << (n + 1)) for _ in range(n + 1)]\n",
        "\n",
        "    def fun(i, mask):\n",
        "        if mask == ((1 << i) | 1):\n",
        "            return adj_matrix[i][0]\n",
        "\n",
        "        if memo[i][mask] != -1:\n",
        "\n",
        "            return memo[i][mask]\n",
        "\n",
        "        ans = 10**9\n",
        "\n",
        "        for j in range(1, n):\n",
        "            if (mask & (1 << j)) != 0 and j != i:\n",
        "                ans = min(ans, fun(j, mask & (~(1 << i))) + adj_matrix[j][i])\n",
        "\n",
        "        memo[i][mask] = ans\n",
        "        return ans\n",
        "\n",
        "    ans = 10**9\n",
        "    for i in range(1, n):\n",
        "        ans = min(ans, fun(i, (1 << n) - 1) + adj_matrix[i][0])\n",
        "\n",
        "    return ans\n",
        "\n",
        "ex1 = np.array([\n",
        "    [0, 10, 15, 20, 25],\n",
        "    [10, 0, 25, 25, 20],\n",
        "    [15, 25, 0, 30, 35],\n",
        "    [20, 25, 30, 0, 40],\n",
        "    [25, 20, 35, 40, 0]\n",
        "])\n",
        "\n",
        "adj_matrix = pd.read_csv(\"./adj_matrix.csv\")\n",
        "ex2 = np.array(adj_matrix.drop(adj_matrix.columns[[0]], axis=1))\n",
        "\n",
        "for ex in [ex1, ex2]:\n",
        "  result = tsp(ex)\n",
        "  print(\"The cost of the most efficient tour =\", result)\n"
      ],
      "metadata": {
        "colab": {
          "base_uri": "https://localhost:8080/"
        },
        "id": "SDUC5JB0JjKx",
        "outputId": "a170cac3-250b-4ab6-bdeb-c00791c3ef76"
      },
      "execution_count": 2,
      "outputs": [
        {
          "output_type": "stream",
          "name": "stdout",
          "text": [
            "The cost of the most efficient tour = 115\n",
            "The cost of the most efficient tour = 80\n"
          ]
        }
      ]
    },
    {
      "cell_type": "markdown",
      "source": [
        "1-(c) Please test wheter your code can be applicable for the bi-directed graph (that is, the travel cost from city 1 to city 2 can be different with the travel cost from city 2 to city 1)."
      ],
      "metadata": {
        "id": "LPvdXDzKTNFu"
      }
    },
    {
      "cell_type": "code",
      "source": [
        "bidirect_ex = np.array([\n",
        "    [0, 15, 20, 15, 15],\n",
        "    [10, 0, 20, 25, 25],\n",
        "    [15, 25, 0, 25, 30],\n",
        "    [20, 25, 30, 0, 45],\n",
        "    [25, 20, 35, 40, 0]\n",
        "])\n",
        "\n",
        "result = tsp(bidirect_ex)\n",
        "print(\"The cost of the most efficient tour =\", result)"
      ],
      "metadata": {
        "colab": {
          "base_uri": "https://localhost:8080/"
        },
        "id": "jQwCPdCoLFU9",
        "outputId": "f797ad8c-fad6-4fbc-a59b-f79533b3b60f"
      },
      "execution_count": 4,
      "outputs": [
        {
          "output_type": "stream",
          "name": "stdout",
          "text": [
            "The cost of the most efficient tour = 110\n"
          ]
        }
      ]
    },
    {
      "cell_type": "code",
      "source": [],
      "metadata": {
        "id": "tfykDzyVSzKy"
      },
      "execution_count": null,
      "outputs": []
    }
  ]
}